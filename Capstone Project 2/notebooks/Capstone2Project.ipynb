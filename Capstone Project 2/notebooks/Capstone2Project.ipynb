{
 "cells": [
  {
   "cell_type": "markdown",
   "metadata": {},
   "source": [
    "# Data wrangling<a id='2_Data_wrangling'></a>"
   ]
  },
  {
   "cell_type": "markdown",
   "metadata": {},
   "source": [
    "## 2.2 Import Functions<a id='2.2_Introduction'></a>"
   ]
  },
  {
   "cell_type": "code",
   "execution_count": 4,
   "metadata": {},
   "outputs": [],
   "source": [
    "import numpy as np\n",
    "import pandas as pd\n",
    "import os\n",
    "import re"
   ]
  },
  {
   "cell_type": "code",
   "execution_count": 23,
   "metadata": {},
   "outputs": [],
   "source": [
    "#import the file and read all lines as strings\n",
    "def import_dat(batch_file, rd_path):\n",
    "    \"\"\"\n",
    "    Function for importing .dat files. Each line is read in as a string and broken up based on spaces between entries.\n",
    "    It is expected that there is a ';' in the first string chunk, and multiple ':' throughout.\n",
    "    Column names are manually created and entered here so it only work for the Gas Sensor Array Drift Dataset at Different Concentrations Data Set\n",
    "    \n",
    "    Inputs:\n",
    "        batch_file - (str) filename of the specfic batch data\n",
    "        rd_path - (str) folder location of where the batch file is located\n",
    "    Outputs:\n",
    "        batch_data - (DataFrame) batch file data in an easier to read format\n",
    "    \"\"\"\n",
    "    with open(rd_path + '\\\\' + batch_file, 'r') as file:\n",
    "        lines = file.readlines()\n",
    "\n",
    "    fd = [] # initialize a list for the formatted data\n",
    "    for line in lines:\n",
    "        row_list = line.split() #split the line up to get the column values for a given row\n",
    "        predict_vals = [float(i[i.index(':')+1:]) for i in row_list[1:]] #extract the predictor variable values\n",
    "        target_vals = [row_list[0][:row_list[0].index(';')], float(row_list[0][row_list[0].index(';') + 1:])] #extract the two target variables, chemcial number & concentration\n",
    "        fd.append(predict_vals + target_vals) #add the row to the formatted data list\n",
    "\n",
    "    col_names_pat = ['DR', '|DR|', 'EMAi0.001', 'EMAi0.01', 'EMAi0.1', 'EMAd0.001', 'EMAd0.01', 'EMAd0.1'] #variable name pattern for each sensor\n",
    "    col_names = [ c + '_' + str(n) for n in range(1,17) for c in col_names_pat] #use the pattern to create column names for all 16 sensors\n",
    "    col_names = col_names + ['ChemicalCode', 'Concentration'] #add the two target variable names\n",
    "    batch_data = pd.DataFrame(fd, columns = col_names)\n",
    "    batch_data['BatchNumber'] = re.findall(r'\\d+', batch_file) * len(batch_data) #add the batch number as a feature\n",
    "    \n",
    "    return batch_data\n"
   ]
  },
  {
   "cell_type": "code",
   "execution_count": 22,
   "metadata": {},
   "outputs": [],
   "source": [
    "base_fpath = os.getcwd() #the file path to the working directory of the code\n",
    "rd_path = base_fpath.replace('notebooks', 'raw_data') #raw data file path\n",
    "\n",
    "raw_files_list = os.listdir(rd_path)\n",
    "for rd_file in raw_files_list:\n",
    "    batch_data = import_dat(rd_file, rd_path)"
   ]
  },
  {
   "cell_type": "markdown",
   "metadata": {},
   "source": [
    "### 2.2.2 Introduction To Notebook<a id='2.2.2_Introduction_To_Notebook'></a>"
   ]
  },
  {
   "cell_type": "markdown",
   "metadata": {},
   "source": [
    "#### 2.6.3.1 Unique Resort Names<a id='2.6.3.1_Unique_Resort_Names'></a>"
   ]
  }
 ],
 "metadata": {
  "kernelspec": {
   "display_name": "Python 3",
   "language": "python",
   "name": "python3"
  },
  "language_info": {
   "codemirror_mode": {
    "name": "ipython",
    "version": 3
   },
   "file_extension": ".py",
   "mimetype": "text/x-python",
   "name": "python",
   "nbconvert_exporter": "python",
   "pygments_lexer": "ipython3",
   "version": "3.8.5"
  },
  "toc": {
   "base_numbering": 1,
   "nav_menu": {},
   "number_sections": true,
   "sideBar": true,
   "skip_h1_title": false,
   "title_cell": "Table of Contents",
   "title_sidebar": "Contents",
   "toc_cell": false,
   "toc_position": {},
   "toc_section_display": true,
   "toc_window_display": true
  },
  "varInspector": {
   "cols": {
    "lenName": 16,
    "lenType": 16,
    "lenVar": 40
   },
   "kernels_config": {
    "python": {
     "delete_cmd_postfix": "",
     "delete_cmd_prefix": "del ",
     "library": "var_list.py",
     "varRefreshCmd": "print(var_dic_list())"
    },
    "r": {
     "delete_cmd_postfix": ") ",
     "delete_cmd_prefix": "rm(",
     "library": "var_list.r",
     "varRefreshCmd": "cat(var_dic_list()) "
    }
   },
   "types_to_exclude": [
    "module",
    "function",
    "builtin_function_or_method",
    "instance",
    "_Feature"
   ],
   "window_display": false
  }
 },
 "nbformat": 4,
 "nbformat_minor": 4
}
