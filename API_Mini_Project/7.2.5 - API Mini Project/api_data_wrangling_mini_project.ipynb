{
 "cells": [
  {
   "cell_type": "markdown",
   "metadata": {},
   "source": [
    "This exercise will require you to pull some data from the Qunadl API. Qaundl is currently the most widely used aggregator of financial market data."
   ]
  },
  {
   "cell_type": "markdown",
   "metadata": {},
   "source": [
    "As a first step, you will need to register a free account on the http://www.quandl.com website."
   ]
  },
  {
   "cell_type": "markdown",
   "metadata": {},
   "source": [
    "After you register, you will be provided with a unique API key, that you should store:"
   ]
  },
  {
   "cell_type": "code",
   "execution_count": 1,
   "metadata": {},
   "outputs": [],
   "source": [
    "# Store the API key as a string - according to PEP8, constants are always named in all upper case\n",
    "API_KEY = 'uobz-Raz9fDTEh1_Npza'"
   ]
  },
  {
   "cell_type": "markdown",
   "metadata": {},
   "source": [
    "Qaundl has a large number of data sources, but, unfortunately, most of them require a Premium subscription. Still, there are also a good number of free datasets."
   ]
  },
  {
   "cell_type": "markdown",
   "metadata": {},
   "source": [
    "For this mini project, we will focus on equities data from the Frankfurt Stock Exhange (FSE), which is available for free. We'll try and analyze the stock prices of a company called Carl Zeiss Meditec, which manufactures tools for eye examinations, as well as medical lasers for laser eye surgery: https://www.zeiss.com/meditec/int/home.html. The company is listed under the stock ticker AFX_X."
   ]
  },
  {
   "cell_type": "markdown",
   "metadata": {},
   "source": [
    "You can find the detailed Quandl API instructions here: https://docs.quandl.com/docs/time-series"
   ]
  },
  {
   "cell_type": "markdown",
   "metadata": {},
   "source": [
    "While there is a dedicated Python package for connecting to the Quandl API, we would prefer that you use the *requests* package, which can be easily downloaded using *pip* or *conda*. You can find the documentation for the package here: http://docs.python-requests.org/en/master/ "
   ]
  },
  {
   "cell_type": "markdown",
   "metadata": {},
   "source": [
    "Finally, apart from the *requests* package, you are encouraged to not use any third party Python packages, such as *pandas*, and instead focus on what's available in the Python Standard Library (the *collections* module might come in handy: https://pymotw.com/3/collections/ ).\n",
    "Also, since you won't have access to DataFrames, you are encouraged to us Python's native data structures - preferably dictionaries, though some questions can also be answered using lists.\n",
    "You can read more on these data structures here: https://docs.python.org/3/tutorial/datastructures.html"
   ]
  },
  {
   "cell_type": "markdown",
   "metadata": {},
   "source": [
    "Keep in mind that the JSON responses you will be getting from the API map almost one-to-one to Python's dictionaries. Unfortunately, they can be very nested, so make sure you read up on indexing dictionaries in the documentation provided above."
   ]
  },
  {
   "cell_type": "code",
   "execution_count": 2,
   "metadata": {},
   "outputs": [],
   "source": [
    "# First, import the relevant modules\n",
    "import requests\n"
   ]
  },
  {
   "cell_type": "markdown",
   "metadata": {},
   "source": [
    "Note: API's can change a bit with each version, for this exercise it is reccomended to use the \"V3\" quandl api at `https://www.quandl.com/api/v3/`"
   ]
  },
  {
   "cell_type": "code",
   "execution_count": 21,
   "metadata": {},
   "outputs": [],
   "source": [
    "# Now, call the Quandl API and pull out a small sample of the data (only one day) to get a glimpse\n",
    "# into the JSON structure that will be returned\n",
    "start_date = '2020-11-20'\n",
    "end_date = '2020-12-01'\n",
    "url = 'https://www.quandl.com/api/v3/datasets/FSE/AFX_X' #base url to acess Frankfurt stock exchane database and the zeiss dataset\n",
    "\n",
    "params = {'start_date': start_date, 'end_date': end_date, 'api_key': API_KEY} #Parameters to use for the query string\n",
    "req = requests.get(url, params = params)"
   ]
  },
  {
   "cell_type": "code",
   "execution_count": 26,
   "metadata": {},
   "outputs": [
    {
     "name": "stdout",
     "output_type": "stream",
     "text": [
      "Level 1 Keys\n",
      "dict_keys(['dataset'])\n",
      "Level 2 Keys\n",
      "dict_keys(['id', 'dataset_code', 'database_code', 'name', 'description', 'refreshed_at', 'newest_available_date', 'oldest_available_date', 'column_names', 'frequency', 'type', 'premium', 'limit', 'transform', 'column_index', 'start_date', 'end_date', 'data', 'collapse', 'order', 'database_id'])\n",
      "/n\n",
      "{'dataset': {'id': 10095370, 'dataset_code': 'AFX_X', 'database_code': 'FSE', 'name': 'Carl Zeiss Meditec (AFX_X)', 'description': 'Stock Prices for Carl Zeiss Meditec (2020-11-02) from the Frankfurt Stock Exchange.<br><br>Trading System: Xetra<br><br>ISIN: DE0005313704', 'refreshed_at': '2020-12-01T14:48:09.907Z', 'newest_available_date': '2020-12-01', 'oldest_available_date': '2000-06-07', 'column_names': ['Date', 'Open', 'High', 'Low', 'Close', 'Change', 'Traded Volume', 'Turnover', 'Last Price of the Day', 'Daily Traded Units', 'Daily Turnover'], 'frequency': 'daily', 'type': 'Time Series', 'premium': False, 'limit': None, 'transform': None, 'column_index': None, 'start_date': '2020-11-20', 'end_date': '2020-12-01', 'data': [['2020-12-01', 112.2, 112.2, 111.5, 112.0, None, 51.0, 5703.0, None, None, None], ['2020-11-30', 111.0, 113.6, 111.0, 112.1, None, 315.0, 35111.5, None, None, None], ['2020-11-27', 111.0, 111.5, 109.5, 111.2, None, 155.0, 17168.5, None, None, None], ['2020-11-26', 111.3, 112.0, 110.5, 111.6, None, 254.0, 28367.5, None, None, None], ['2020-11-25', 111.4, 111.4, 110.1, 110.1, None, 294.0, 32435.8, None, None, None], ['2020-11-24', 116.1, 116.8, 110.5, 113.5, None, 3184.0, 361404.4, None, None, None], ['2020-11-23', 118.0, 118.8, 116.3, 116.3, None, 1590.0, 187525.0, None, None, None], ['2020-11-20', 116.5, 118.0, 116.5, 117.5, None, 295.0, 34736.0, None, None, None]], 'collapse': None, 'order': None, 'database_id': 6129}}\n"
     ]
    }
   ],
   "source": [
    "# Inspect the JSON structure of the object you created, and take note of how nested it is,\n",
    "# as well as the overall structure\n",
    "json_data = req.json()\n",
    "print('Level 1 Keys')\n",
    "print(json_data.keys()) #Highest level\n",
    "print('Level 2 Keys')\n",
    "print(json_data['dataset'].keys())\n",
    "print('/n')\n",
    "print(json_data)"
   ]
  },
  {
   "cell_type": "markdown",
   "metadata": {},
   "source": [
    "These are your tasks for this mini project:\n",
    "\n",
    "1. Collect data from the Franfurt Stock Exchange, for the ticker AFX_X, for the whole year 2017 (keep in mind that the date format is YYYY-MM-DD).\n",
    "2. Convert the returned JSON object into a Python dictionary.\n",
    "3. Calculate what the highest and lowest opening prices were for the stock in this period.\n",
    "4. What was the largest change in any one day (based on High and Low price)?\n",
    "5. What was the largest change between any two days (based on Closing Price)?\n",
    "6. What was the average daily trading volume during this year?\n",
    "7. (Optional) What was the median trading volume during this year. (Note: you may need to implement your own function for calculating the median.)"
   ]
  },
  {
   "cell_type": "code",
   "execution_count": 28,
   "metadata": {},
   "outputs": [
    {
     "data": {
      "text/plain": [
       "True"
      ]
     },
     "execution_count": 28,
     "metadata": {},
     "output_type": "execute_result"
    }
   ],
   "source": [
    "# Question 1: Collect data from the Franfurt Stock Exchange, for the ticker AFX_X, for the whole year 2017 (keep in mind that the date format is YYYY-MM-DD)\n",
    "start_date = '2017-01-01' #Start of 2017\n",
    "end_date = '2017-12-31' #End of 2017\n",
    "\n",
    "params = {'start_date': start_date, 'end_date': end_date, 'api_key': API_KEY} #Parameters to usefor the query string\n",
    "req = requests.get(url, params = params) #Request data with given parameters\n",
    "\n",
    "req.status_code == requests.codes.ok #Check if request was successful"
   ]
  },
  {
   "cell_type": "code",
   "execution_count": 30,
   "metadata": {},
   "outputs": [],
   "source": [
    "# Question 2: Convert the returned JSON object into a Python dictionary.\n",
    "json_data = req.json() #Convert the json data to a dictionary"
   ]
  },
  {
   "cell_type": "code",
   "execution_count": 61,
   "metadata": {},
   "outputs": [
    {
     "name": "stdout",
     "output_type": "stream",
     "text": [
      "Data Column Names\n",
      "['Date', 'Open', 'High', 'Low', 'Close', 'Change', 'Traded Volume', 'Turnover', 'Last Price of the Day', 'Daily Traded Units', 'Daily Turnover']\n",
      "Max open price of 2017: 53.11\n",
      "Min open price of 2017: 34.0\n"
     ]
    }
   ],
   "source": [
    "# Question 3: Calculate what the highest and lowest opening prices were for the stock in this period\n",
    "num_days = len(json_data['dataset']['data']) #Number of days the stock exchnage was open\n",
    "print('Data Column Names\\n' + str(json_data['dataset']['column_names']))\n",
    "daily_vals = json_data['dataset']['data'] #Daily key values\n",
    "opens_2017 = [daily_vals[i][1] for i in range(0,num_days)] #Get all opening prices of 2017, 2nd Column\n",
    "valid_opens = [opens_2017[i] for i in range(0, len(opens_2017)) if opens_2017[i] != None] #Eliminate the None entries in the list\n",
    "\n",
    "print('Max open price of 2017: ' + str(max(valid_opens))) #Calculate the Max value of the list\n",
    "print('Min open price of 2017: ' + str(min(valid_opens))) #Calculate the Min value of the list"
   ]
  },
  {
   "cell_type": "code",
   "execution_count": 64,
   "metadata": {},
   "outputs": [
    {
     "name": "stdout",
     "output_type": "stream",
     "text": [
      "Largest change in daily value in 2017: 2.81\n"
     ]
    }
   ],
   "source": [
    "# Question 4: What was the largest change in any one day (based on High and Low price)?\n",
    "daily_swings = [daily_vals[i][2] - daily_vals[i][3] for i in range(0,num_days)] #Calculate the difference between the High and Low price of a given day\n",
    "\n",
    "#Calculate the maximum difference between the High and Low  of a given day in 2017 rounded to the nearest penny\n",
    "print('Largest change in daily value in 2017: ' + str(round(max(daily_swings), 2))) "
   ]
  },
  {
   "cell_type": "code",
   "execution_count": 88,
   "metadata": {},
   "outputs": [
    {
     "name": "stdout",
     "output_type": "stream",
     "text": [
      "Maximum change from a days closing to the previous days closing: 2.56\n",
      "Difference between the Maximum and Minimum closing price in 2017: 19.03\n"
     ]
    }
   ],
   "source": [
    "# Question 5: What was the largest change between any two days (based on Closing Price)?\n",
    "#Initial Interpretation\n",
    "daily_closing_change = [abs(daily_vals[i][4] - daily_vals[i-1][4]) for i in range(1,num_days)] #Absolute value of the change in closing price from the one day to the previous\n",
    "print('Maximum change from a days closing to the previous days closing: ' + str(round(max(daily_closing_change),2)))\n",
    "\n",
    "#Alternative Interpretation\n",
    "closing = [daily_vals[i][4] for i in range(1,num_days)] #Closing prices from 2017\n",
    "print('Difference between the Maximum and Minimum closing price in 2017: ' + str(max(closing) - min(closing)))"
   ]
  },
  {
   "cell_type": "code",
   "execution_count": 79,
   "metadata": {},
   "outputs": [
    {
     "name": "stdout",
     "output_type": "stream",
     "text": [
      "Average trading volume of 2017: 89339\n"
     ]
    }
   ],
   "source": [
    "# Question 6: What was the average daily trading volume during this year?\n",
    "trading_vol = [daily_vals[i][6] for i in range(1,num_days)] #Daily Trading Volume\n",
    "print('Average trading volume of 2017: ' + str(round(sum(trading_vol)/len(trading_vol)))) #Average number of shares traded per day"
   ]
  },
  {
   "cell_type": "code",
   "execution_count": 87,
   "metadata": {},
   "outputs": [
    {
     "name": "stdout",
     "output_type": "stream",
     "text": [
      "Median trading volume: 77420.0\n"
     ]
    }
   ],
   "source": [
    "# Question 7: What was the median trading volume during this year\n",
    "trading_sort = sorted(trading_vol) #Sort the trading volume\n",
    "mid_ind = len(trading_sort)/2 #Calculate what the index number is of the middle of the list\n",
    "if mid_ind % 2 == 0:\n",
    "    trading_median = (trading_sort[int(mid_ind)] + trading_sort[int(mid_ind) + 1]) #Average the two middle values if even number of data points\n",
    "else:\n",
    "    trading_median = trading_sort[int(mid_ind) + 1] #Median is the centrall\n",
    "\n",
    "print('Median trading volume: ' + str(trading_median))"
   ]
  }
 ],
 "metadata": {
  "kernelspec": {
   "display_name": "Python 3",
   "language": "python",
   "name": "python3"
  },
  "language_info": {
   "codemirror_mode": {
    "name": "ipython",
    "version": 3
   },
   "file_extension": ".py",
   "mimetype": "text/x-python",
   "name": "python",
   "nbconvert_exporter": "python",
   "pygments_lexer": "ipython3",
   "version": "3.8.5"
  }
 },
 "nbformat": 4,
 "nbformat_minor": 4
}
