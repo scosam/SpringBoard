{
 "cells": [
  {
   "cell_type": "markdown",
   "metadata": {},
   "source": [
    "# Import Packages & Data"
   ]
  },
  {
   "cell_type": "code",
   "execution_count": 1,
   "metadata": {},
   "outputs": [],
   "source": [
    "import pandas as pd\n",
    "import numpy as np\n",
    "import matplotlib.pyplot as plt"
   ]
  },
  {
   "cell_type": "code",
   "execution_count": 2,
   "metadata": {},
   "outputs": [],
   "source": [
    "user_df = pd.read_csv('takehome_users.csv', encoding='latin-1')\n",
    "engage_df = pd.read_csv('takehome_user_engagement.csv')"
   ]
  },
  {
   "cell_type": "markdown",
   "metadata": {},
   "source": [
    "# Data Exploration & Cleaning"
   ]
  },
  {
   "cell_type": "code",
   "execution_count": 3,
   "metadata": {},
   "outputs": [
    {
     "name": "stdout",
     "output_type": "stream",
     "text": [
      "Number of duplicate rows: 0\n",
      "\n",
      "<class 'pandas.core.frame.DataFrame'>\n",
      "RangeIndex: 12000 entries, 0 to 11999\n",
      "Data columns (total 10 columns):\n",
      " #   Column                      Non-Null Count  Dtype  \n",
      "---  ------                      --------------  -----  \n",
      " 0   object_id                   12000 non-null  int64  \n",
      " 1   creation_time               12000 non-null  object \n",
      " 2   name                        12000 non-null  object \n",
      " 3   email                       12000 non-null  object \n",
      " 4   creation_source             12000 non-null  object \n",
      " 5   last_session_creation_time  8823 non-null   float64\n",
      " 6   opted_in_to_mailing_list    12000 non-null  int64  \n",
      " 7   enabled_for_marketing_drip  12000 non-null  int64  \n",
      " 8   org_id                      12000 non-null  int64  \n",
      " 9   invited_by_user_id          6417 non-null   float64\n",
      "dtypes: float64(2), int64(4), object(4)\n",
      "memory usage: 937.6+ KB\n",
      "None\n"
     ]
    }
   ],
   "source": [
    "print(\"Number of duplicate rows: {}\\n\".format(sum(user_df.duplicated())))\n",
    "print(user_df.info())"
   ]
  },
  {
   "cell_type": "markdown",
   "metadata": {},
   "source": [
    "luckily there are no duplicated rows, but we do have some missing data. for the invited by user id  column we are actually going to transform that column into a boolean of if the customer was invtired by someone else or not. If there is a value in the column it will be True, otherwise it will be false. However, for the missing values of the last session creation time we will have to either specify a constant value or use the creation time. It is odd that there is not a last session time value for some users since their creation time should be their last session if they never used it. Let's convert the last session time from a unix timestamp to a ISO timestamp and fill in the missing values with the creation time."
   ]
  },
  {
   "cell_type": "code",
   "execution_count": 4,
   "metadata": {},
   "outputs": [],
   "source": [
    "user_df['invited_by_user'] = ~user_df['invited_by_user_id'].isnull()\n",
    "user_df.drop(columns=['invited_by_user_id'], inplace=True)"
   ]
  },
  {
   "cell_type": "code",
   "execution_count": 5,
   "metadata": {},
   "outputs": [
    {
     "name": "stderr",
     "output_type": "stream",
     "text": [
      "<ipython-input-5-63d5fb318c57>:3: SettingWithCopyWarning: \n",
      "A value is trying to be set on a copy of a slice from a DataFrame\n",
      "\n",
      "See the caveats in the documentation: https://pandas.pydata.org/pandas-docs/stable/user_guide/indexing.html#returning-a-view-versus-a-copy\n",
      "  user_df.last_session_creation_time[user_df['last_session_creation_time'].isnull()] = user_df.creation_time[user_df['last_session_creation_time'].isnull()]\n"
     ]
    }
   ],
   "source": [
    "user_df['creation_time'] = pd.to_datetime(user_df['creation_time'])\n",
    "user_df['last_session_creation_time'] = pd.to_datetime(user_df['last_session_creation_time'], unit='s')\n",
    "user_df.last_session_creation_time[user_df['last_session_creation_time'].isnull()] = user_df.creation_time[user_df['last_session_creation_time'].isnull()]"
   ]
  },
  {
   "cell_type": "markdown",
   "metadata": {},
   "source": [
    "Now that the missing data is filled in, lets look quickly for any erroneous values."
   ]
  },
  {
   "cell_type": "code",
   "execution_count": 6,
   "metadata": {},
   "outputs": [
    {
     "data": {
      "text/plain": [
       "ORG_INVITE            4254\n",
       "GUEST_INVITE          2163\n",
       "PERSONAL_PROJECTS     2111\n",
       "SIGNUP                2087\n",
       "SIGNUP_GOOGLE_AUTH    1385\n",
       "Name: creation_source, dtype: int64"
      ]
     },
     "execution_count": 6,
     "metadata": {},
     "output_type": "execute_result"
    }
   ],
   "source": [
    "# No data issues, expected values only\n",
    "user_df['creation_source'].value_counts()"
   ]
  },
  {
   "cell_type": "code",
   "execution_count": 7,
   "metadata": {},
   "outputs": [
    {
     "name": "stdout",
     "output_type": "stream",
     "text": [
      "417\n"
     ]
    },
    {
     "data": {
      "text/plain": [
       "0     319\n",
       "1     233\n",
       "2     201\n",
       "3     168\n",
       "4     159\n",
       "6     138\n",
       "5     128\n",
       "9     124\n",
       "7     119\n",
       "10    104\n",
       "Name: org_id, dtype: int64"
      ]
     },
     "execution_count": 7,
     "metadata": {},
     "output_type": "execute_result"
    }
   ],
   "source": [
    "#Lots of organizations if it is to be used as a categorical variable, but no apparent data issues\n",
    "print(len(user_df['org_id'].unique()))\n",
    "user_df['org_id'].value_counts().head(10)"
   ]
  },
  {
   "cell_type": "code",
   "execution_count": 8,
   "metadata": {},
   "outputs": [
    {
     "data": {
      "text/plain": [
       "0    9006\n",
       "1    2994\n",
       "Name: opted_in_to_mailing_list, dtype: int64"
      ]
     },
     "execution_count": 8,
     "metadata": {},
     "output_type": "execute_result"
    }
   ],
   "source": [
    "# No data issues, expected values only\n",
    "user_df['opted_in_to_mailing_list'].value_counts()"
   ]
  },
  {
   "cell_type": "code",
   "execution_count": 9,
   "metadata": {},
   "outputs": [
    {
     "name": "stdout",
     "output_type": "stream",
     "text": [
      "2012-05-31 00:43:27\n",
      "2014-05-30 23:59:19\n",
      "2012-05-31 08:20:06\n",
      "2014-06-06 14:58:50\n"
     ]
    }
   ],
   "source": [
    "# No data issues, values in expected range\n",
    "print(user_df['creation_time'].min())\n",
    "print(user_df['creation_time'].max())\n",
    "print(user_df['last_session_creation_time'].min())\n",
    "print(user_df['last_session_creation_time'].max())"
   ]
  },
  {
   "cell_type": "markdown",
   "metadata": {},
   "source": [
    "Overall, there does not seem to be any issues with the quality of the data values. Our next step will to do feature engineering and drop any unecessary columns."
   ]
  },
  {
   "cell_type": "markdown",
   "metadata": {},
   "source": [
    "# Feature Engineering"
   ]
  },
  {
   "cell_type": "markdown",
   "metadata": {},
   "source": [
    "First let's identify the columns that we are going to drop. An individuals name provides no usable information, we could use it to see if the person's email address is some form of their name, but it is doubtful how much that would help too. The org id will also be eliminated because it is a categorical feature with 417 unique values, which would result in a sparse matrix. The user's unique object id will also be dropped, but only after we use it to merge with the other table we are creating that identifies the person as an adopted user or not. The mail address is also a unique identifier, so we don't want to use the entire email, but we can extract the company portion to see how many different ones there are and some more frequent ones may be beneficial."
   ]
  },
  {
   "cell_type": "code",
   "execution_count": 10,
   "metadata": {},
   "outputs": [
    {
     "name": "stdout",
     "output_type": "stream",
     "text": [
      "Number unique company email addresses: 1184\n",
      "\n",
      "Top 10 company email addresses\n",
      "gmail.com         3562\n",
      "yahoo.com         2447\n",
      "jourrapide.com    1259\n",
      "cuvox.de          1202\n",
      "gustr.com         1179\n",
      "hotmail.com       1165\n",
      "rerwl.com            2\n",
      "oqpze.com            2\n",
      "qgjbc.com            2\n",
      "dqwln.com            2\n",
      "Name: email_company, dtype: int64\n"
     ]
    }
   ],
   "source": [
    "user_df[['email_name','email_company']] = user_df['email'].str.split('@', expand=True)\n",
    "print('Number unique company email addresses: {}'.format(len(user_df['email_company'].unique())))\n",
    "print('\\nTop 10 company email addresses')\n",
    "print(user_df['email_company'].value_counts().head(10))"
   ]
  },
  {
   "cell_type": "markdown",
   "metadata": {},
   "source": [
    "So although there are 1184 unique company email adresses, there are 6 of them that are very common. we can break this out so any of the companies not part of the top 6 are changed to other. But first things first, let's eliminate some of our garbage features."
   ]
  },
  {
   "cell_type": "code",
   "execution_count": 11,
   "metadata": {},
   "outputs": [
    {
     "name": "stderr",
     "output_type": "stream",
     "text": [
      "C:\\Users\\sscov\\anaconda3\\lib\\site-packages\\pandas\\core\\indexing.py:1732: SettingWithCopyWarning: \n",
      "A value is trying to be set on a copy of a slice from a DataFrame\n",
      "\n",
      "See the caveats in the documentation: https://pandas.pydata.org/pandas-docs/stable/user_guide/indexing.html#returning-a-view-versus-a-copy\n",
      "  self._setitem_single_block(indexer, value, name)\n"
     ]
    }
   ],
   "source": [
    "user_df.drop(columns=['email', 'email_name', 'name', 'org_id'],inplace=True)\n",
    "email_bool = ~user_df['email_company'].isin(['gmail.com', 'yahoo.com', 'jourrapide.com', 'cuvox.de', 'gustr.com', 'hotmail.com'])\n",
    "user_df['email_company'].loc[email_bool] = 'other'"
   ]
  },
  {
   "cell_type": "markdown",
   "metadata": {},
   "source": [
    "The next features we have to consider is the creation time and last session time. We could change the datetimes to a numeric feature since newer vs. older could have an impact. However, it would make more sense to truncate the values to the month and year so there are less unique values and then convert them to strings as a categorical feature. For the last session time, we will calculate the days between "
   ]
  },
  {
   "cell_type": "code",
   "execution_count": 12,
   "metadata": {},
   "outputs": [],
   "source": [
    "user_df['last_session_creation_delta'] = user_df['last_session_creation_time'] - user_df['creation_time']\n",
    "user_df['last_session_creation_delta'] = user_df['last_session_creation_delta'].dt.days\n",
    "user_df['creation_date'] = user_df['creation_time'].dt.strftime(\"%Y-%m\")\n",
    "user_df.drop(columns=['creation_time', 'last_session_creation_time'], inplace=True)"
   ]
  },
  {
   "cell_type": "markdown",
   "metadata": {},
   "source": [
    "Ok we should noW be ready to go with our predictor features, so now we need to create our target feature."
   ]
  },
  {
   "cell_type": "code",
   "execution_count": 13,
   "metadata": {},
   "outputs": [
    {
     "name": "stdout",
     "output_type": "stream",
     "text": [
      "number of unique user ids: 8823\n"
     ]
    }
   ],
   "source": [
    "engage_df['time_stamp'] = pd.to_datetime(engage_df['time_stamp'])\n",
    "print('number of unique user ids: {}'.format(len(engage_df['user_id'].unique())))\n",
    "engage_df.set_index('time_stamp', inplace=True)"
   ]
  },
  {
   "cell_type": "markdown",
   "metadata": {},
   "source": [
    "So the first thing to note is there are more user ids in the predictor feature table than there are in the user engagement table. This means that there is either missing data on some users in the system, some users never logged in, or whoever created the tables messed up... either way lets continue forward by creating the target feature in which we will look to see if a user had 3 logons within a week."
   ]
  },
  {
   "cell_type": "code",
   "execution_count": 14,
   "metadata": {},
   "outputs": [],
   "source": [
    "adopted = engage_df.groupby('user_id').rolling('7d').count()\n",
    "adopted_users = adopted[adopted['visited'] >= 3].index.get_level_values(0).unique()\n",
    "user_df['adopted'] = user_df['object_id'].isin(adopted_users)\n",
    "user_df.drop(columns=['object_id'], inplace=True)"
   ]
  },
  {
   "cell_type": "markdown",
   "metadata": {},
   "source": [
    "# Model Creation"
   ]
  },
  {
   "cell_type": "markdown",
   "metadata": {},
   "source": [
    "Since we only want to determine which factors are the most important in predicting user adoption, I am only going to evaluate one model type so long as the metrics are acceptable. The model to be used will be a Random Forest with the default hyperparameters. We will need to encode the categorical features as well since random forest will only take numerical values."
   ]
  },
  {
   "cell_type": "code",
   "execution_count": 41,
   "metadata": {},
   "outputs": [
    {
     "name": "stdout",
     "output_type": "stream",
     "text": [
      "model AUC: 1.0\n",
      "              precision    recall  f1-score   support\n",
      "\n",
      "       False       0.98      0.98      0.98      2599\n",
      "        True       0.89      0.87      0.88       401\n",
      "\n",
      "    accuracy                           0.97      3000\n",
      "   macro avg       0.93      0.92      0.93      3000\n",
      "weighted avg       0.97      0.97      0.97      3000\n",
      "\n"
     ]
    }
   ],
   "source": [
    "from sklearn.preprocessing import OneHotEncoder, StandardScaler\n",
    "from sklearn.model_selection import train_test_split\n",
    "from sklearn.ensemble import RandomForestClassifier, DecisionTreeClassifier\n",
    "from sklearn.metrics import classification_report, roc_auc_score\n",
    "\n",
    "y = user_df['adopted']\n",
    "X = user_df.drop(columns=['adopted'])\n",
    "\n",
    "encoder = OneHotEncoder(sparse=False).fit(X.drop(columns=['last_session_creation_delta']))\n",
    "X_cat = encoder.transform(X.drop(columns=['last_session_creation_delta']))\n",
    "X_cat = pd.DataFrame(X_cat, columns=encoder.get_feature_names_out())\n",
    "X = X_cat.join(X['last_session_creation_delta'])\n",
    "\n",
    "X_train, X_test, y_train, y_test = train_test_split(X, y, test_size=.25, stratify=y)\n",
    "\n",
    "model = RandomForestClassifier()\n",
    "model.fit(X_train, y_train)\n",
    "y_pred = model.predict(X_test)\n",
    "print('model AUC: {}'.format(roc_auc_score(y_train, model.predict(X_train))))\n",
    "print(classification_report(y_test, y_pred))"
   ]
  },
  {
   "cell_type": "markdown",
   "metadata": {},
   "source": [
    "So the model worked really well. lets now look at the most important features."
   ]
  },
  {
   "cell_type": "code",
   "execution_count": 42,
   "metadata": {},
   "outputs": [
    {
     "data": {
      "text/html": [
       "<div>\n",
       "<style scoped>\n",
       "    .dataframe tbody tr th:only-of-type {\n",
       "        vertical-align: middle;\n",
       "    }\n",
       "\n",
       "    .dataframe tbody tr th {\n",
       "        vertical-align: top;\n",
       "    }\n",
       "\n",
       "    .dataframe thead th {\n",
       "        text-align: right;\n",
       "    }\n",
       "</style>\n",
       "<table border=\"1\" class=\"dataframe\">\n",
       "  <thead>\n",
       "    <tr style=\"text-align: right;\">\n",
       "      <th></th>\n",
       "      <th>feat_importance</th>\n",
       "    </tr>\n",
       "  </thead>\n",
       "  <tbody>\n",
       "    <tr>\n",
       "      <th>last_session_creation_delta</th>\n",
       "      <td>0.885830</td>\n",
       "    </tr>\n",
       "    <tr>\n",
       "      <th>creation_date_2014-05</th>\n",
       "      <td>0.006102</td>\n",
       "    </tr>\n",
       "    <tr>\n",
       "      <th>creation_date_2014-03</th>\n",
       "      <td>0.004903</td>\n",
       "    </tr>\n",
       "    <tr>\n",
       "      <th>email_company_gmail.com</th>\n",
       "      <td>0.004676</td>\n",
       "    </tr>\n",
       "    <tr>\n",
       "      <th>opted_in_to_mailing_list_0</th>\n",
       "      <td>0.004469</td>\n",
       "    </tr>\n",
       "    <tr>\n",
       "      <th>opted_in_to_mailing_list_1</th>\n",
       "      <td>0.004057</td>\n",
       "    </tr>\n",
       "    <tr>\n",
       "      <th>email_company_other</th>\n",
       "      <td>0.003976</td>\n",
       "    </tr>\n",
       "    <tr>\n",
       "      <th>email_company_yahoo.com</th>\n",
       "      <td>0.003827</td>\n",
       "    </tr>\n",
       "    <tr>\n",
       "      <th>creation_source_GUEST_INVITE</th>\n",
       "      <td>0.003798</td>\n",
       "    </tr>\n",
       "    <tr>\n",
       "      <th>enabled_for_marketing_drip_1</th>\n",
       "      <td>0.003789</td>\n",
       "    </tr>\n",
       "    <tr>\n",
       "      <th>enabled_for_marketing_drip_0</th>\n",
       "      <td>0.003742</td>\n",
       "    </tr>\n",
       "    <tr>\n",
       "      <th>email_company_hotmail.com</th>\n",
       "      <td>0.003634</td>\n",
       "    </tr>\n",
       "    <tr>\n",
       "      <th>creation_source_PERSONAL_PROJECTS</th>\n",
       "      <td>0.003552</td>\n",
       "    </tr>\n",
       "    <tr>\n",
       "      <th>creation_date_2014-04</th>\n",
       "      <td>0.003547</td>\n",
       "    </tr>\n",
       "    <tr>\n",
       "      <th>email_company_jourrapide.com</th>\n",
       "      <td>0.003513</td>\n",
       "    </tr>\n",
       "    <tr>\n",
       "      <th>creation_source_ORG_INVITE</th>\n",
       "      <td>0.003410</td>\n",
       "    </tr>\n",
       "    <tr>\n",
       "      <th>creation_date_2014-02</th>\n",
       "      <td>0.003097</td>\n",
       "    </tr>\n",
       "    <tr>\n",
       "      <th>email_company_gustr.com</th>\n",
       "      <td>0.002920</td>\n",
       "    </tr>\n",
       "    <tr>\n",
       "      <th>email_company_cuvox.de</th>\n",
       "      <td>0.002862</td>\n",
       "    </tr>\n",
       "    <tr>\n",
       "      <th>creation_date_2013-11</th>\n",
       "      <td>0.002758</td>\n",
       "    </tr>\n",
       "    <tr>\n",
       "      <th>creation_source_SIGNUP</th>\n",
       "      <td>0.002554</td>\n",
       "    </tr>\n",
       "    <tr>\n",
       "      <th>creation_date_2014-01</th>\n",
       "      <td>0.002549</td>\n",
       "    </tr>\n",
       "    <tr>\n",
       "      <th>creation_date_2012-11</th>\n",
       "      <td>0.002156</td>\n",
       "    </tr>\n",
       "    <tr>\n",
       "      <th>creation_date_2013-12</th>\n",
       "      <td>0.002143</td>\n",
       "    </tr>\n",
       "    <tr>\n",
       "      <th>invited_by_user_False</th>\n",
       "      <td>0.002050</td>\n",
       "    </tr>\n",
       "    <tr>\n",
       "      <th>creation_date_2013-02</th>\n",
       "      <td>0.001973</td>\n",
       "    </tr>\n",
       "    <tr>\n",
       "      <th>creation_date_2013-06</th>\n",
       "      <td>0.001944</td>\n",
       "    </tr>\n",
       "    <tr>\n",
       "      <th>invited_by_user_True</th>\n",
       "      <td>0.001926</td>\n",
       "    </tr>\n",
       "    <tr>\n",
       "      <th>creation_date_2012-12</th>\n",
       "      <td>0.001921</td>\n",
       "    </tr>\n",
       "    <tr>\n",
       "      <th>creation_date_2012-09</th>\n",
       "      <td>0.001902</td>\n",
       "    </tr>\n",
       "    <tr>\n",
       "      <th>creation_date_2013-10</th>\n",
       "      <td>0.001826</td>\n",
       "    </tr>\n",
       "    <tr>\n",
       "      <th>creation_source_SIGNUP_GOOGLE_AUTH</th>\n",
       "      <td>0.001811</td>\n",
       "    </tr>\n",
       "    <tr>\n",
       "      <th>creation_date_2013-01</th>\n",
       "      <td>0.001703</td>\n",
       "    </tr>\n",
       "    <tr>\n",
       "      <th>creation_date_2013-03</th>\n",
       "      <td>0.001701</td>\n",
       "    </tr>\n",
       "    <tr>\n",
       "      <th>creation_date_2013-05</th>\n",
       "      <td>0.001649</td>\n",
       "    </tr>\n",
       "    <tr>\n",
       "      <th>creation_date_2013-09</th>\n",
       "      <td>0.001639</td>\n",
       "    </tr>\n",
       "    <tr>\n",
       "      <th>creation_date_2012-10</th>\n",
       "      <td>0.001533</td>\n",
       "    </tr>\n",
       "    <tr>\n",
       "      <th>creation_date_2012-06</th>\n",
       "      <td>0.001446</td>\n",
       "    </tr>\n",
       "    <tr>\n",
       "      <th>creation_date_2013-07</th>\n",
       "      <td>0.001389</td>\n",
       "    </tr>\n",
       "    <tr>\n",
       "      <th>creation_date_2012-07</th>\n",
       "      <td>0.001388</td>\n",
       "    </tr>\n",
       "    <tr>\n",
       "      <th>creation_date_2013-08</th>\n",
       "      <td>0.001351</td>\n",
       "    </tr>\n",
       "    <tr>\n",
       "      <th>creation_date_2012-08</th>\n",
       "      <td>0.001341</td>\n",
       "    </tr>\n",
       "    <tr>\n",
       "      <th>creation_date_2013-04</th>\n",
       "      <td>0.001158</td>\n",
       "    </tr>\n",
       "    <tr>\n",
       "      <th>creation_date_2012-05</th>\n",
       "      <td>0.000486</td>\n",
       "    </tr>\n",
       "  </tbody>\n",
       "</table>\n",
       "</div>"
      ],
      "text/plain": [
       "                                    feat_importance\n",
       "last_session_creation_delta                0.885830\n",
       "creation_date_2014-05                      0.006102\n",
       "creation_date_2014-03                      0.004903\n",
       "email_company_gmail.com                    0.004676\n",
       "opted_in_to_mailing_list_0                 0.004469\n",
       "opted_in_to_mailing_list_1                 0.004057\n",
       "email_company_other                        0.003976\n",
       "email_company_yahoo.com                    0.003827\n",
       "creation_source_GUEST_INVITE               0.003798\n",
       "enabled_for_marketing_drip_1               0.003789\n",
       "enabled_for_marketing_drip_0               0.003742\n",
       "email_company_hotmail.com                  0.003634\n",
       "creation_source_PERSONAL_PROJECTS          0.003552\n",
       "creation_date_2014-04                      0.003547\n",
       "email_company_jourrapide.com               0.003513\n",
       "creation_source_ORG_INVITE                 0.003410\n",
       "creation_date_2014-02                      0.003097\n",
       "email_company_gustr.com                    0.002920\n",
       "email_company_cuvox.de                     0.002862\n",
       "creation_date_2013-11                      0.002758\n",
       "creation_source_SIGNUP                     0.002554\n",
       "creation_date_2014-01                      0.002549\n",
       "creation_date_2012-11                      0.002156\n",
       "creation_date_2013-12                      0.002143\n",
       "invited_by_user_False                      0.002050\n",
       "creation_date_2013-02                      0.001973\n",
       "creation_date_2013-06                      0.001944\n",
       "invited_by_user_True                       0.001926\n",
       "creation_date_2012-12                      0.001921\n",
       "creation_date_2012-09                      0.001902\n",
       "creation_date_2013-10                      0.001826\n",
       "creation_source_SIGNUP_GOOGLE_AUTH         0.001811\n",
       "creation_date_2013-01                      0.001703\n",
       "creation_date_2013-03                      0.001701\n",
       "creation_date_2013-05                      0.001649\n",
       "creation_date_2013-09                      0.001639\n",
       "creation_date_2012-10                      0.001533\n",
       "creation_date_2012-06                      0.001446\n",
       "creation_date_2013-07                      0.001389\n",
       "creation_date_2012-07                      0.001388\n",
       "creation_date_2013-08                      0.001351\n",
       "creation_date_2012-08                      0.001341\n",
       "creation_date_2013-04                      0.001158\n",
       "creation_date_2012-05                      0.000486"
      ]
     },
     "execution_count": 42,
     "metadata": {},
     "output_type": "execute_result"
    }
   ],
   "source": [
    "pd.DataFrame(model.feature_importances_, index = model.feature_names_in_, columns=['feat_importance']).sort_values('feat_importance',ascending=False)"
   ]
  },
  {
   "cell_type": "markdown",
   "metadata": {},
   "source": [
    "Conclusion: one of the key indeicators of whether or not someone is an adopted user is if they are still an active user or not. The feature importance for the time between when they signed up and if they are an adopted user is suspiciously large, but there shouldn't be any confounding, or using future values to make the prediction. It does make sense though that someone that has been using the software longer has a greater likelihood of meeting the adopted user classification. let's make another quick model not using that feature and see what we come up with."
   ]
  },
  {
   "cell_type": "code",
   "execution_count": 43,
   "metadata": {},
   "outputs": [
    {
     "name": "stdout",
     "output_type": "stream",
     "text": [
      "model AUC: 0.5735255133693671\n",
      "              precision    recall  f1-score   support\n",
      "\n",
      "       False       0.87      0.98      0.92      2599\n",
      "        True       0.14      0.02      0.04       401\n",
      "\n",
      "    accuracy                           0.85      3000\n",
      "   macro avg       0.50      0.50      0.48      3000\n",
      "weighted avg       0.77      0.85      0.80      3000\n",
      "\n"
     ]
    }
   ],
   "source": [
    "X_train.drop(columns=['last_session_creation_delta'], inplace=True)\n",
    "X_test.drop(columns=['last_session_creation_delta'], inplace=True)\n",
    "\n",
    "model = RandomForestClassifier()\n",
    "model.fit(X_train, y_train)\n",
    "y_pred = model.predict(X_test)\n",
    "print('model AUC: {}'.format(roc_auc_score(y_train, model.predict(X_train))))\n",
    "print(classification_report(y_test, y_pred))"
   ]
  },
  {
   "cell_type": "code",
   "execution_count": 40,
   "metadata": {},
   "outputs": [
    {
     "data": {
      "text/html": [
       "<div>\n",
       "<style scoped>\n",
       "    .dataframe tbody tr th:only-of-type {\n",
       "        vertical-align: middle;\n",
       "    }\n",
       "\n",
       "    .dataframe tbody tr th {\n",
       "        vertical-align: top;\n",
       "    }\n",
       "\n",
       "    .dataframe thead th {\n",
       "        text-align: right;\n",
       "    }\n",
       "</style>\n",
       "<table border=\"1\" class=\"dataframe\">\n",
       "  <thead>\n",
       "    <tr style=\"text-align: right;\">\n",
       "      <th></th>\n",
       "      <th>feat_importance</th>\n",
       "    </tr>\n",
       "  </thead>\n",
       "  <tbody>\n",
       "    <tr>\n",
       "      <th>opted_in_to_mailing_list_1</th>\n",
       "      <td>0.048764</td>\n",
       "    </tr>\n",
       "    <tr>\n",
       "      <th>opted_in_to_mailing_list_0</th>\n",
       "      <td>0.048658</td>\n",
       "    </tr>\n",
       "    <tr>\n",
       "      <th>enabled_for_marketing_drip_1</th>\n",
       "      <td>0.040913</td>\n",
       "    </tr>\n",
       "    <tr>\n",
       "      <th>enabled_for_marketing_drip_0</th>\n",
       "      <td>0.040791</td>\n",
       "    </tr>\n",
       "    <tr>\n",
       "      <th>email_company_jourrapide.com</th>\n",
       "      <td>0.038773</td>\n",
       "    </tr>\n",
       "    <tr>\n",
       "      <th>email_company_gustr.com</th>\n",
       "      <td>0.036504</td>\n",
       "    </tr>\n",
       "    <tr>\n",
       "      <th>email_company_gmail.com</th>\n",
       "      <td>0.036193</td>\n",
       "    </tr>\n",
       "    <tr>\n",
       "      <th>email_company_other</th>\n",
       "      <td>0.033952</td>\n",
       "    </tr>\n",
       "    <tr>\n",
       "      <th>email_company_cuvox.de</th>\n",
       "      <td>0.033104</td>\n",
       "    </tr>\n",
       "    <tr>\n",
       "      <th>creation_date_2014-05</th>\n",
       "      <td>0.030326</td>\n",
       "    </tr>\n",
       "    <tr>\n",
       "      <th>email_company_hotmail.com</th>\n",
       "      <td>0.030220</td>\n",
       "    </tr>\n",
       "    <tr>\n",
       "      <th>email_company_yahoo.com</th>\n",
       "      <td>0.029888</td>\n",
       "    </tr>\n",
       "    <tr>\n",
       "      <th>creation_date_2012-11</th>\n",
       "      <td>0.023980</td>\n",
       "    </tr>\n",
       "    <tr>\n",
       "      <th>creation_date_2014-01</th>\n",
       "      <td>0.023454</td>\n",
       "    </tr>\n",
       "    <tr>\n",
       "      <th>creation_source_GUEST_INVITE</th>\n",
       "      <td>0.021918</td>\n",
       "    </tr>\n",
       "    <tr>\n",
       "      <th>creation_source_ORG_INVITE</th>\n",
       "      <td>0.021710</td>\n",
       "    </tr>\n",
       "    <tr>\n",
       "      <th>creation_date_2012-08</th>\n",
       "      <td>0.021179</td>\n",
       "    </tr>\n",
       "    <tr>\n",
       "      <th>creation_date_2013-09</th>\n",
       "      <td>0.020727</td>\n",
       "    </tr>\n",
       "    <tr>\n",
       "      <th>creation_date_2013-02</th>\n",
       "      <td>0.020695</td>\n",
       "    </tr>\n",
       "    <tr>\n",
       "      <th>creation_date_2013-11</th>\n",
       "      <td>0.020694</td>\n",
       "    </tr>\n",
       "  </tbody>\n",
       "</table>\n",
       "</div>"
      ],
      "text/plain": [
       "                              feat_importance\n",
       "opted_in_to_mailing_list_1           0.048764\n",
       "opted_in_to_mailing_list_0           0.048658\n",
       "enabled_for_marketing_drip_1         0.040913\n",
       "enabled_for_marketing_drip_0         0.040791\n",
       "email_company_jourrapide.com         0.038773\n",
       "email_company_gustr.com              0.036504\n",
       "email_company_gmail.com              0.036193\n",
       "email_company_other                  0.033952\n",
       "email_company_cuvox.de               0.033104\n",
       "creation_date_2014-05                0.030326\n",
       "email_company_hotmail.com            0.030220\n",
       "email_company_yahoo.com              0.029888\n",
       "creation_date_2012-11                0.023980\n",
       "creation_date_2014-01                0.023454\n",
       "creation_source_GUEST_INVITE         0.021918\n",
       "creation_source_ORG_INVITE           0.021710\n",
       "creation_date_2012-08                0.021179\n",
       "creation_date_2013-09                0.020727\n",
       "creation_date_2013-02                0.020695\n",
       "creation_date_2013-11                0.020694"
      ]
     },
     "execution_count": 40,
     "metadata": {},
     "output_type": "execute_result"
    }
   ],
   "source": [
    "pd.DataFrame(model.feature_importances_, index = model.feature_names_in_, columns=['feat_importance']).sort_values('feat_importance',ascending=False).head(20)"
   ]
  },
  {
   "cell_type": "markdown",
   "metadata": {},
   "source": [
    "So overall the model accuracy droped only a lite bit, but now we are horrible at predicting if someone is an adopted user. we would have better model accuracy if we assumed everyone is not an adopted user."
   ]
  }
 ],
 "metadata": {
  "kernelspec": {
   "display_name": "Python 3",
   "language": "python",
   "name": "python3"
  },
  "language_info": {
   "codemirror_mode": {
    "name": "ipython",
    "version": 3
   },
   "file_extension": ".py",
   "mimetype": "text/x-python",
   "name": "python",
   "nbconvert_exporter": "python",
   "pygments_lexer": "ipython3",
   "version": "3.8.5"
  }
 },
 "nbformat": 4,
 "nbformat_minor": 4
}
